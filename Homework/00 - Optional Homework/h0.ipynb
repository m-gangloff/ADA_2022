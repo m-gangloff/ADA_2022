{
 "cells": [
  {
   "cell_type": "code",
   "execution_count": 5,
   "metadata": {},
   "outputs": [],
   "source": [
    "import numpy\n",
    "import pandas as pd"
   ]
  },
  {
   "cell_type": "markdown",
   "metadata": {},
   "source": [
    "## Load data"
   ]
  },
  {
   "cell_type": "code",
   "execution_count": 16,
   "metadata": {},
   "outputs": [
    {
     "data": {
      "text/html": [
       "<div>\n",
       "<style scoped>\n",
       "    .dataframe tbody tr th:only-of-type {\n",
       "        vertical-align: middle;\n",
       "    }\n",
       "\n",
       "    .dataframe tbody tr th {\n",
       "        vertical-align: top;\n",
       "    }\n",
       "\n",
       "    .dataframe thead th {\n",
       "        text-align: right;\n",
       "    }\n",
       "</style>\n",
       "<table border=\"1\" class=\"dataframe\">\n",
       "  <thead>\n",
       "    <tr style=\"text-align: right;\">\n",
       "      <th></th>\n",
       "      <th>Unnamed: 0</th>\n",
       "      <th>Intent</th>\n",
       "      <th>Gender</th>\n",
       "      <th>Age</th>\n",
       "      <th>Race</th>\n",
       "      <th>Deaths</th>\n",
       "      <th>Population</th>\n",
       "      <th>Rate</th>\n",
       "    </tr>\n",
       "  </thead>\n",
       "  <tbody>\n",
       "    <tr>\n",
       "      <th>0</th>\n",
       "      <td>1</td>\n",
       "      <td>None selected</td>\n",
       "      <td>None selected</td>\n",
       "      <td>None selected</td>\n",
       "      <td>None selected</td>\n",
       "      <td>33599</td>\n",
       "      <td>316299978</td>\n",
       "      <td>10.6</td>\n",
       "    </tr>\n",
       "    <tr>\n",
       "      <th>1</th>\n",
       "      <td>2</td>\n",
       "      <td>None selected</td>\n",
       "      <td>None selected</td>\n",
       "      <td>None selected</td>\n",
       "      <td>White</td>\n",
       "      <td>22079</td>\n",
       "      <td>197369634</td>\n",
       "      <td>11.2</td>\n",
       "    </tr>\n",
       "    <tr>\n",
       "      <th>2</th>\n",
       "      <td>3</td>\n",
       "      <td>None selected</td>\n",
       "      <td>None selected</td>\n",
       "      <td>None selected</td>\n",
       "      <td>Black</td>\n",
       "      <td>7765</td>\n",
       "      <td>38896382</td>\n",
       "      <td>20.0</td>\n",
       "    </tr>\n",
       "    <tr>\n",
       "      <th>3</th>\n",
       "      <td>4</td>\n",
       "      <td>None selected</td>\n",
       "      <td>None selected</td>\n",
       "      <td>None selected</td>\n",
       "      <td>Hispanic</td>\n",
       "      <td>3007</td>\n",
       "      <td>54049078</td>\n",
       "      <td>5.6</td>\n",
       "    </tr>\n",
       "    <tr>\n",
       "      <th>4</th>\n",
       "      <td>5</td>\n",
       "      <td>None selected</td>\n",
       "      <td>None selected</td>\n",
       "      <td>None selected</td>\n",
       "      <td>Asian/Pacific Islander</td>\n",
       "      <td>442</td>\n",
       "      <td>16315561</td>\n",
       "      <td>2.7</td>\n",
       "    </tr>\n",
       "  </tbody>\n",
       "</table>\n",
       "</div>"
      ],
      "text/plain": [
       "   Unnamed: 0         Intent         Gender            Age  \\\n",
       "0           1  None selected  None selected  None selected   \n",
       "1           2  None selected  None selected  None selected   \n",
       "2           3  None selected  None selected  None selected   \n",
       "3           4  None selected  None selected  None selected   \n",
       "4           5  None selected  None selected  None selected   \n",
       "\n",
       "                     Race  Deaths  Population  Rate  \n",
       "0           None selected   33599   316299978  10.6  \n",
       "1                   White   22079   197369634  11.2  \n",
       "2                   Black    7765    38896382  20.0  \n",
       "3                Hispanic    3007    54049078   5.6  \n",
       "4  Asian/Pacific Islander     442    16315561   2.7  "
      ]
     },
     "execution_count": 16,
     "metadata": {},
     "output_type": "execute_result"
    }
   ],
   "source": [
    "url = 'https://raw.githubusercontent.com/fivethirtyeight/guns-data/master/interactive_data.csv'\n",
    "df = pd.read_csv(url)\n",
    "df.head(5)"
   ]
  },
  {
   "cell_type": "markdown",
   "metadata": {},
   "source": [
    "## Preprocessing"
   ]
  },
  {
   "cell_type": "code",
   "execution_count": 38,
   "metadata": {},
   "outputs": [
    {
     "name": "stdout",
     "output_type": "stream",
     "text": [
      "['None selected' 'Suicide' 'Homicide' 'Accident' 'Unknown']\n",
      "['Suicide' 'Homicide' 'Accident' 'Unknown']\n"
     ]
    },
    {
     "data": {
      "text/html": [
       "<div>\n",
       "<style scoped>\n",
       "    .dataframe tbody tr th:only-of-type {\n",
       "        vertical-align: middle;\n",
       "    }\n",
       "\n",
       "    .dataframe tbody tr th {\n",
       "        vertical-align: top;\n",
       "    }\n",
       "\n",
       "    .dataframe thead th {\n",
       "        text-align: right;\n",
       "    }\n",
       "</style>\n",
       "<table border=\"1\" class=\"dataframe\">\n",
       "  <thead>\n",
       "    <tr style=\"text-align: right;\">\n",
       "      <th></th>\n",
       "      <th>Unnamed: 0</th>\n",
       "      <th>Intent</th>\n",
       "      <th>Gender</th>\n",
       "      <th>Age</th>\n",
       "      <th>Race</th>\n",
       "      <th>Deaths</th>\n",
       "      <th>Population</th>\n",
       "      <th>Rate</th>\n",
       "    </tr>\n",
       "  </thead>\n",
       "  <tbody>\n",
       "    <tr>\n",
       "      <th>151</th>\n",
       "      <td>152</td>\n",
       "      <td>Suicide</td>\n",
       "      <td>Female</td>\n",
       "      <td>Under 15</td>\n",
       "      <td>White</td>\n",
       "      <td>19</td>\n",
       "      <td>15355910</td>\n",
       "      <td>0.1</td>\n",
       "    </tr>\n",
       "    <tr>\n",
       "      <th>152</th>\n",
       "      <td>153</td>\n",
       "      <td>Suicide</td>\n",
       "      <td>Female</td>\n",
       "      <td>Under 15</td>\n",
       "      <td>Black</td>\n",
       "      <td>1</td>\n",
       "      <td>4095428</td>\n",
       "      <td>0.0</td>\n",
       "    </tr>\n",
       "    <tr>\n",
       "      <th>153</th>\n",
       "      <td>154</td>\n",
       "      <td>Suicide</td>\n",
       "      <td>Female</td>\n",
       "      <td>Under 15</td>\n",
       "      <td>Hispanic</td>\n",
       "      <td>4</td>\n",
       "      <td>7330024</td>\n",
       "      <td>0.1</td>\n",
       "    </tr>\n",
       "    <tr>\n",
       "      <th>154</th>\n",
       "      <td>155</td>\n",
       "      <td>Suicide</td>\n",
       "      <td>Female</td>\n",
       "      <td>Under 15</td>\n",
       "      <td>Asian/Pacific Islander</td>\n",
       "      <td>1</td>\n",
       "      <td>1393440</td>\n",
       "      <td>0.1</td>\n",
       "    </tr>\n",
       "    <tr>\n",
       "      <th>155</th>\n",
       "      <td>156</td>\n",
       "      <td>Suicide</td>\n",
       "      <td>Female</td>\n",
       "      <td>Under 15</td>\n",
       "      <td>Other</td>\n",
       "      <td>0</td>\n",
       "      <td>1661877</td>\n",
       "      <td>0.0</td>\n",
       "    </tr>\n",
       "  </tbody>\n",
       "</table>\n",
       "</div>"
      ],
      "text/plain": [
       "     Unnamed: 0   Intent  Gender       Age                    Race  Deaths  \\\n",
       "151         152  Suicide  Female  Under 15                   White      19   \n",
       "152         153  Suicide  Female  Under 15                   Black       1   \n",
       "153         154  Suicide  Female  Under 15                Hispanic       4   \n",
       "154         155  Suicide  Female  Under 15  Asian/Pacific Islander       1   \n",
       "155         156  Suicide  Female  Under 15                   Other       0   \n",
       "\n",
       "     Population  Rate  \n",
       "151    15355910   0.1  \n",
       "152     4095428   0.0  \n",
       "153     7330024   0.1  \n",
       "154     1393440   0.1  \n",
       "155     1661877   0.0  "
      ]
     },
     "execution_count": 38,
     "metadata": {},
     "output_type": "execute_result"
    }
   ],
   "source": [
    "print(df[\"Intent\"].unique())\n",
    "df_filtered = df.loc[~(df=='None selected').any(axis=1)]\n",
    "print(df_filtered[\"Intent\"].unique())\n",
    "df_filtered.head(5)"
   ]
  },
  {
   "cell_type": "markdown",
   "metadata": {},
   "source": [
    "### Suicides"
   ]
  },
  {
   "cell_type": "code",
   "execution_count": 28,
   "metadata": {},
   "outputs": [
    {
     "name": "stdout",
     "output_type": "stream",
     "text": [
      "Out of 33595 gun deaths, 21058 were suicides which corresponds to 62%.\n"
     ]
    }
   ],
   "source": [
    "nb_deaths = df_filtered[\"Deaths\"].sum()\n",
    "nb_deaths_suicide = df_filtered[df_filtered[\"Intent\"]==\"Suicide\"][\"Deaths\"].sum()\n",
    "print('Out of {} gun deaths, {} were suicides which corresponds to {}%.'.format(nb_deaths, nb_deaths_suicide, int(100*nb_deaths_suicide/nb_deaths)))"
   ]
  },
  {
   "cell_type": "markdown",
   "metadata": {},
   "source": [
    "### Suicide victims gender"
   ]
  },
  {
   "cell_type": "code",
   "execution_count": 36,
   "metadata": {},
   "outputs": [
    {
     "name": "stdout",
     "output_type": "stream",
     "text": [
      "Out of 21058 suicides, 18161 suicide victims were male which corresponds to 86%.\n"
     ]
    }
   ],
   "source": [
    "nb_deaths_suicide_male = df_filtered[df_filtered[\"Intent\"]==\"Suicide\"]\n",
    "nb_deaths_suicide_male = nb_deaths_suicide_male[nb_deaths_suicide_male[\"Gender\"]==\"Male\"][\"Deaths\"].sum()\n",
    "print('Out of {} suicides, {} suicide victims were male which corresponds to {}%.'.format(nb_deaths_suicide, nb_deaths_suicide_male, int(100*nb_deaths_suicide_male/nb_deaths_suicide)))"
   ]
  },
  {
   "cell_type": "markdown",
   "metadata": {},
   "source": [
    "### Homicides"
   ]
  },
  {
   "cell_type": "code",
   "execution_count": 45,
   "metadata": {},
   "outputs": [
    {
     "name": "stdout",
     "output_type": "stream",
     "text": [
      "Out of 33595 gun deaths, 11727 were homicides which corresponds to 34%.\n"
     ]
    }
   ],
   "source": [
    "df_deaths_homicides = df_filtered[df_filtered[\"Intent\"]==\"Homicide\"]\n",
    "nb_deaths_homicide = df_deaths_homicides[\"Deaths\"].sum()\n",
    "print('Out of {} gun deaths, {} were homicides which corresponds to {}%.'.format(nb_deaths, nb_deaths_homicide, int(100*nb_deaths_homicide/nb_deaths)))"
   ]
  },
  {
   "cell_type": "markdown",
   "metadata": {},
   "source": [
    "### Homicide victims"
   ]
  },
  {
   "cell_type": "code",
   "execution_count": 47,
   "metadata": {},
   "outputs": [
    {
     "name": "stdout",
     "output_type": "stream",
     "text": [
      "Out of 6521 homicides who are males in the age group of 15--34, 4312 victims were Black which corresponds to 66%.\n"
     ]
    }
   ],
   "source": [
    "df_deaths_homicides_male = df_deaths_homicides[df_deaths_homicides[\"Gender\"]==\"Male\"]\n",
    "df_deaths_homicides_male_middle_age = df_deaths_homicides_male[df_deaths_homicides_male[\"Age\"]==\"15 - 34\"]\n",
    "nb_deaths_homicides_male_middle_age = df_deaths_homicides_male_middle_age[\"Deaths\"].sum()\n",
    "df_deaths_homicides_male_middle_age_black = df_deaths_homicides_male_middle_age[df_deaths_homicides_male_middle_age[\"Race\"]==\"Black\"]\n",
    "nb_deaths_homicides_male_middle_age_black = df_deaths_homicides_male_middle_age_black[\"Deaths\"].sum()\n",
    "\n",
    "print('Out of {} homicides who are males in the age group of 15--34, {} victims were Black which corresponds to {}%.'.format(nb_deaths_homicides_male_middle_age, nb_deaths_homicides_male_middle_age_black, int(100*nb_deaths_homicides_male_middle_age_black/nb_deaths_homicides_male_middle_age)))"
   ]
  },
  {
   "cell_type": "markdown",
   "metadata": {},
   "source": [
    "### Women as victims in homicides"
   ]
  },
  {
   "cell_type": "code",
   "execution_count": 44,
   "metadata": {},
   "outputs": [
    {
     "name": "stdout",
     "output_type": "stream",
     "text": [
      "Out of 11727 homicide victims, 1793 victims were female which corresponds to 15%.\n"
     ]
    }
   ],
   "source": [
    "nb_deaths_homicides = df_deaths_homicides[\"Deaths\"].sum()\n",
    "nb_deaths_homicides_female = df_deaths_homicides[df_deaths_homicides[\"Gender\"]==\"Female\"][\"Deaths\"].sum()\n",
    "print('Out of {} homicide victims, {} victims were female which corresponds to {}%.'.format(nb_deaths_homicides, nb_deaths_homicides_female, int(100*nb_deaths_homicides_female/nb_deaths_homicides)))"
   ]
  }
 ],
 "metadata": {
  "kernelspec": {
   "display_name": "Python 3.9.13 ('ada')",
   "language": "python",
   "name": "python3"
  },
  "language_info": {
   "codemirror_mode": {
    "name": "ipython",
    "version": 3
   },
   "file_extension": ".py",
   "mimetype": "text/x-python",
   "name": "python",
   "nbconvert_exporter": "python",
   "pygments_lexer": "ipython3",
   "version": "3.9.13"
  },
  "orig_nbformat": 4,
  "vscode": {
   "interpreter": {
    "hash": "f4891726f5b6f43f92553ebbf42d6cdea34afb1b2f0a68fe405bd9f531b699fb"
   }
  }
 },
 "nbformat": 4,
 "nbformat_minor": 2
}
